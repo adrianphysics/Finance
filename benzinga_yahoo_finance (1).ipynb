{
  "nbformat": 4,
  "nbformat_minor": 0,
  "metadata": {
    "colab": {
      "name": "benzinga_yahoo_finance.ipynb",
      "provenance": [],
      "collapsed_sections": []
    },
    "kernelspec": {
      "name": "python3",
      "display_name": "Python 3"
    }
  },
  "cells": [
    {
      "cell_type": "markdown",
      "metadata": {
        "id": "7slN5mYVrf_4"
      },
      "source": [
        "\n",
        "<h2>This program webscrapes benzinga for stocks with specified conditions and uses the tickers to webscrape yahoo finance</h2>\n"
      ]
    },
    {
      "cell_type": "code",
      "metadata": {
        "id": "wSoaVYP7a9Zo"
      },
      "source": [
        "import pandas as pd\n",
        "import numpy as np\n",
        "import matplotlib.pyplot as plt\n",
        "import requests\n",
        "import bs4 as bs\n",
        "import datetime as dt\n",
        "import webbrowser\n",
        "import time"
      ],
      "execution_count": null,
      "outputs": []
    },
    {
      "cell_type": "code",
      "metadata": {
        "id": "Oh6P1bWqbkh7"
      },
      "source": [
        "#premarket movers on benzinga\n",
        "\n",
        "def get_million(min_price=4, min_rank=10, min_volume=1):\n",
        "  url = 'https://www.benzinga.com/premarket/'\n",
        "  resp = requests.get(url)\n",
        "  soup = bs.BeautifulSoup(resp.text)\n",
        "  table = soup.find('table', {'premarket-stock-table premarket-stock-table--scrollable'})\n",
        "\n",
        "  tickers = []\n",
        "  names = []\n",
        "  prices = []\n",
        "  changes = []\n",
        "  volumes = []\n",
        "\n",
        "\n",
        "  for row in table.findAll('tr')[1:]:\n",
        "          ticker = row.findAll('td')[0].text\n",
        "          name = row.findAll('td')[1].text\n",
        "          price = row.findAll('td')[2].text\n",
        "          change = row.findAll('td')[3].text\n",
        "          volume = row.findAll('td')[4].text\n",
        "\n",
        "          tickers.append(ticker)\n",
        "          names.append(name)\n",
        "          prices.append(price)\n",
        "          changes.append(change)\n",
        "          volumes.append(volume)\n",
        "          \n",
        "  #Remove whitespace and \\n\n",
        "  columns = [tickers, names, prices, changes, volumes]\n",
        "\n",
        "  for column in columns:\n",
        "    for i in range(len(column)):\n",
        "      column[i] = column[i].strip()\n",
        "\n",
        "  #Remove $ from Price and change dtype to float\n",
        "  for i in range(len(prices)):\n",
        "    prices[i] = float(prices[i][prices[i].index('$')+1:])\n",
        "\n",
        "  #Remove % from Change % and change dtype to float\n",
        "  for i in range(len(changes)):\n",
        "    changes[i] = float(changes[i][:changes[i].index('%')])\n",
        "    \n",
        "  #Create dataframe\n",
        "  benzinga = pd.DataFrame({\n",
        "      'Rank' : np.arange(1,len(tickers)+1),\n",
        "      'Ticker':tickers,\n",
        "      'Name':names,\n",
        "      'Price$':prices,\n",
        "      'Change%':changes,\n",
        "      'Volume':volumes\n",
        "  })\n",
        "\n",
        "  #Set rank as index\n",
        "  #benzinga.set_index('Rank', inplace=True)\n",
        "\n",
        "  #Create dataframe of Stocks with volume greater than million\n",
        "  million = benzinga[benzinga['Volume'].str.contains('M')].copy()\n",
        "\n",
        "  #Remove the M\n",
        "  million['Volume'] = million['Volume'].str[:-1]\n",
        "\n",
        "  #Change dtype to float\n",
        "  million['Volume'] = million['Volume'].astype('float')\n",
        "\n",
        "  #Rename volume column to include M\n",
        "  million.rename(columns={'Volume':'Volume(M)'}, inplace=True)\n",
        "\n",
        "  #Set a minimum price, default is 4 or more\n",
        "  million = million[million['Price$']>=min_price]\n",
        "\n",
        "  #Set a minimum rank, default is 10 or less\n",
        "  million = million[million['Rank']<=min_rank]\n",
        "\n",
        "   #Set a minimum volume, default is 1 or more\n",
        "  million = million[million['Volume(M)']>=min_volume]\n",
        "    \n",
        "  return million\n",
        "\n",
        "  #Order by volume, then price\n",
        "  #million.sort_values(by=['Volume','Price'], ascending=False)"
      ],
      "execution_count": null,
      "outputs": []
    },
    {
      "cell_type": "code",
      "metadata": {
        "colab": {
          "base_uri": "https://localhost:8080/",
          "height": 109
        },
        "id": "t-aap-IHk-7k",
        "outputId": "82cd4b92-afd1-4e25-c76b-afda3084201e"
      },
      "source": [
        "display(get_million())"
      ],
      "execution_count": null,
      "outputs": [
        {
          "output_type": "display_data",
          "data": {
            "text/html": [
              "<div>\n",
              "<style scoped>\n",
              "    .dataframe tbody tr th:only-of-type {\n",
              "        vertical-align: middle;\n",
              "    }\n",
              "\n",
              "    .dataframe tbody tr th {\n",
              "        vertical-align: top;\n",
              "    }\n",
              "\n",
              "    .dataframe thead th {\n",
              "        text-align: right;\n",
              "    }\n",
              "</style>\n",
              "<table border=\"1\" class=\"dataframe\">\n",
              "  <thead>\n",
              "    <tr style=\"text-align: right;\">\n",
              "      <th></th>\n",
              "      <th>Rank</th>\n",
              "      <th>Ticker</th>\n",
              "      <th>Name</th>\n",
              "      <th>Price$</th>\n",
              "      <th>Change%</th>\n",
              "      <th>Volume(M)</th>\n",
              "    </tr>\n",
              "  </thead>\n",
              "  <tbody>\n",
              "    <tr>\n",
              "      <th>3</th>\n",
              "      <td>4</td>\n",
              "      <td>CLVS</td>\n",
              "      <td>Clovis Oncology</td>\n",
              "      <td>6.44</td>\n",
              "      <td>21.05</td>\n",
              "      <td>8.07</td>\n",
              "    </tr>\n",
              "    <tr>\n",
              "      <th>4</th>\n",
              "      <td>5</td>\n",
              "      <td>ZKIN</td>\n",
              "      <td>ZK International Gr Co</td>\n",
              "      <td>10.50</td>\n",
              "      <td>19.72</td>\n",
              "      <td>5.87</td>\n",
              "    </tr>\n",
              "  </tbody>\n",
              "</table>\n",
              "</div>"
            ],
            "text/plain": [
              "   Rank Ticker                    Name  Price$  Change%  Volume(M)\n",
              "3     4   CLVS         Clovis Oncology    6.44    21.05       8.07\n",
              "4     5   ZKIN  ZK International Gr Co   10.50    19.72       5.87"
            ]
          },
          "metadata": {
            "tags": []
          }
        }
      ]
    },
    {
      "cell_type": "code",
      "metadata": {
        "colab": {
          "base_uri": "https://localhost:8080/"
        },
        "id": "tTxzJ3gZrWTj",
        "outputId": "5eb7dacb-9168-434b-d662-aba498c4e268"
      },
      "source": [
        "#Return tickers with volume greater than or equal to 1 million\n",
        "\n",
        "def million_to_list():\n",
        "    return get_million()['Ticker'].tolist()\n",
        "\n",
        "million_to_list()"
      ],
      "execution_count": null,
      "outputs": [
        {
          "output_type": "execute_result",
          "data": {
            "text/plain": [
              "['CLVS', 'ZKIN']"
            ]
          },
          "metadata": {
            "tags": []
          },
          "execution_count": 57
        }
      ]
    },
    {
      "cell_type": "code",
      "metadata": {
        "id": "aR5r0L5dnNU1"
      },
      "source": [
        "#Open million_tickers in finance\n",
        "yahoo = 'https://finance.yahoo.com/chart/'\n",
        "links = [yahoo+ticker for ticker in get_million()['Ticker']]\n",
        "\n",
        "def open_finance():\n",
        "    for link in links:\n",
        "        webbrowser.open_new_tab(link)\n",
        "    #print(link)\n",
        "\n",
        "open_finance()"
      ],
      "execution_count": null,
      "outputs": []
    },
    {
      "cell_type": "code",
      "metadata": {
        "id": "DMVYRlHkoiCP"
      },
      "source": [
        "#Create CSV using Time and Stock Prices, Stock Tickers as column names\n",
        "\n",
        "\n",
        "#Create the dictionary\n",
        "stocks = {'Time':[]}\n",
        "\n",
        "#Fill dictionary with stock names as keys\n",
        "for stock in million_to_list():\n",
        "    stocks.update({stock:[]})\n",
        "\n",
        "current_time = dt.datetime.now()\n",
        "year = int(current_time.strftime('%Y'))\n",
        "month = int(current_time.strftime('%m'))\n",
        "day = int(current_time.strftime('%d'))\n",
        "\n",
        "#End time 7:30AM of current day\n",
        "end = dt.datetime(year,month,day,hour=7, minute=30).strftime('%H:%M:%S')\n",
        "\n",
        "#Add the values\n",
        "#Everything between while and break can be a function\n",
        "while True:\n",
        "    now = dt.datetime.now().strftime('%H:%M:%S')\n",
        "    stocks['Time'].append(now)\n",
        "    for stock in million_to_list():\n",
        "        link = yahoo+stock\n",
        "        resp = requests.get(link)\n",
        "        soup = bs.BeautifulSoup(resp.text)\n",
        "        table = soup.find_all('span',class_='Trsdu(0.3s) Fw(b) Fz(14px) Mb(-4px) D(ib)')\n",
        "\n",
        "        price = float(table[0].contents[0])\n",
        "\n",
        "        stocks[stock].append(price)\n",
        "\n",
        "    if now >= end:\n",
        "        break\n",
        "        \n",
        "      \n",
        "    #time.sleep(1) #Get data every second\n",
        "    \n",
        "#SUCCESS"
      ],
      "execution_count": null,
      "outputs": []
    },
    {
      "cell_type": "code",
      "metadata": {
        "colab": {
          "base_uri": "https://localhost:8080/"
        },
        "id": "JKzh4AC1re8l",
        "outputId": "edff051c-50c4-4b7d-b0f2-7b0de694b0e1"
      },
      "source": [
        "stocks"
      ],
      "execution_count": null,
      "outputs": [
        {
          "output_type": "execute_result",
          "data": {
            "text/plain": [
              "{'CLVS': [7.68], 'Time': ['19:49:06'], 'ZKIN': [11.11]}"
            ]
          },
          "metadata": {
            "tags": []
          },
          "execution_count": 59
        }
      ]
    },
    {
      "cell_type": "code",
      "metadata": {
        "colab": {
          "base_uri": "https://localhost:8080/",
          "height": 79
        },
        "id": "4ud_WXlLxeGv",
        "outputId": "ce1f5df6-6241-4706-d8b4-cfa4bb54d131"
      },
      "source": [
        "#Create the dataframe\n",
        "millions_dataframe = pd.DataFrame(stocks)\n",
        "\n",
        "millions_dataframe"
      ],
      "execution_count": null,
      "outputs": [
        {
          "output_type": "execute_result",
          "data": {
            "text/html": [
              "<div>\n",
              "<style scoped>\n",
              "    .dataframe tbody tr th:only-of-type {\n",
              "        vertical-align: middle;\n",
              "    }\n",
              "\n",
              "    .dataframe tbody tr th {\n",
              "        vertical-align: top;\n",
              "    }\n",
              "\n",
              "    .dataframe thead th {\n",
              "        text-align: right;\n",
              "    }\n",
              "</style>\n",
              "<table border=\"1\" class=\"dataframe\">\n",
              "  <thead>\n",
              "    <tr style=\"text-align: right;\">\n",
              "      <th></th>\n",
              "      <th>Time</th>\n",
              "      <th>CLVS</th>\n",
              "      <th>ZKIN</th>\n",
              "    </tr>\n",
              "  </thead>\n",
              "  <tbody>\n",
              "    <tr>\n",
              "      <th>0</th>\n",
              "      <td>18:50:20</td>\n",
              "      <td>7.88</td>\n",
              "      <td>11.32</td>\n",
              "    </tr>\n",
              "  </tbody>\n",
              "</table>\n",
              "</div>"
            ],
            "text/plain": [
              "       Time  CLVS   ZKIN\n",
              "0  18:50:20  7.88  11.32"
            ]
          },
          "metadata": {
            "tags": []
          },
          "execution_count": 46
        }
      ]
    },
    {
      "cell_type": "code",
      "metadata": {
        "id": "e-oREbAYxgTb"
      },
      "source": [
        "#Save to CSV\n",
        "date = dt.datetime.now().strftime('_%d_%m_%y')\n",
        "name = 'stocks'+date+'.csv'\n",
        "\n",
        "millions_dataframe.to_csv(name)"
      ],
      "execution_count": null,
      "outputs": []
    }
  ]
}